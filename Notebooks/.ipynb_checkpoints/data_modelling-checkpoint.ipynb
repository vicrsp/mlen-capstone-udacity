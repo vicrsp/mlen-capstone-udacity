{
 "cells": [
  {
   "cell_type": "code",
   "execution_count": 8,
   "metadata": {},
   "outputs": [],
   "source": [
    "import pandas as pd\n",
    "import numpy as np\n",
    "import matplotlib.pyplot as plt\n",
    "import seaborn as sns\n",
    "from sklearn.metrics import matthews_corrcoef, accuracy_score\n",
    "\n",
    "plt.style.use('ggplot')\n",
    "data_dir = '../Input'\n",
    "report_dir = '../Report'"
   ]
  },
  {
   "cell_type": "code",
   "execution_count": 1,
   "metadata": {},
   "outputs": [],
   "source": [
    "def naive_predictor(x):\n",
    "    return 0"
   ]
  },
  {
   "cell_type": "code",
   "execution_count": 4,
   "metadata": {},
   "outputs": [],
   "source": [
    "metadata_train = pd.read_csv(data_dir + '/metadata_train.csv', sep = \",\")"
   ]
  },
  {
   "cell_type": "code",
   "execution_count": 13,
   "metadata": {},
   "outputs": [
    {
     "name": "stdout",
     "output_type": "stream",
     "text": [
      "MCC value for the naive predictor (baseline): 0.0\n",
      "Accuracy value for the naive predictor (baseline): 93.97382920110194%\n"
     ]
    }
   ],
   "source": [
    "predictions = metadata_train.target.apply(naive_predictor)\n",
    "\n",
    "mcc_naive = matthews_corrcoef(metadata_train.target, predictions)  \n",
    "acc_naive = accuracy_score(metadata_train.target, predictions)  \n",
    "\n",
    "print('MCC value for the naive predictor (baseline): {}'.format(mcc_naive))\n",
    "print('Accuracy value for the naive predictor (baseline): {}%'.format(100 *acc_naive))"
   ]
  },
  {
   "cell_type": "code",
   "execution_count": null,
   "metadata": {},
   "outputs": [],
   "source": []
  }
 ],
 "metadata": {
  "kernelspec": {
   "display_name": "Python 3",
   "language": "python",
   "name": "python3"
  },
  "language_info": {
   "codemirror_mode": {
    "name": "ipython",
    "version": 3
   },
   "file_extension": ".py",
   "mimetype": "text/x-python",
   "name": "python",
   "nbconvert_exporter": "python",
   "pygments_lexer": "ipython3",
   "version": "3.6.6"
  }
 },
 "nbformat": 4,
 "nbformat_minor": 2
}
